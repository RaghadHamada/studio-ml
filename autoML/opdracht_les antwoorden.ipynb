{
 "cells": [
  {
   "cell_type": "markdown",
   "metadata": {},
   "source": [
    "Step 1: Import necessary libraries and load the dataset"
   ]
  },
  {
   "cell_type": "code",
   "execution_count": 9,
   "metadata": {},
   "outputs": [],
   "source": [
    "# TODO 1: Import required libraries\n",
    "# 1. fetch the california housing dataset\n",
    "# 2. split the data into training and testing sets\n",
    "# 3. import hyperopt library\n",
    "# 4. import autokeras library\n",
    "# 5. import required regression models from sklearn (LinearRegression, Ridge, Lasso, DecisionTreeRegressor, RandomForestRegressor, GradientBoostingRegressor, SVR, KNeighborsRegressor)\n",
    "# 6. import required metrics from sklearn (mean_squared_error)\n",
    "\n",
    "from sklearn.datasets import fetch_california_housing\n",
    "from sklearn.model_selection import train_test_split\n",
    "from sklearn.metrics import mean_squared_error\n",
    "from hyperopt import hp, fmin, tpe, Trials\n",
    "import autokeras as ak\n",
    "from sklearn.metrics import mean_squared_error\n",
    "from hyperopt import hp, fmin, tpe, Trials\n",
    "from sklearn.linear_model import LinearRegression, Ridge, Lasso\n",
    "from sklearn.tree import DecisionTreeRegressor\n",
    "from sklearn.ensemble import RandomForestRegressor, GradientBoostingRegressor\n",
    "from sklearn.svm import SVR\n",
    "from sklearn.neighbors import KNeighborsRegressor\n",
    "# Load the California Housing dataset\n",
    "data = fetch_california_housing()\n",
    "X = data.data\n",
    "y = data.target\n",
    "\n",
    "# Split the data into training and testing sets\n",
    "X_train, X_test, y_train, y_test = train_test_split(X, y, test_size=0.2, random_state=42)\n"
   ]
  },
  {
   "cell_type": "code",
   "execution_count": 10,
   "metadata": {},
   "outputs": [],
   "source": [
    "# TODO 2: Define the hyperparameter search space for AutoKeras using Hyperopt\n",
    "space = {\n",
    "    'model': hp.choice('model', [\n",
    "        {'type': 'linear_regression'},\n",
    "        {'type': 'ridge', 'alpha': hp.uniform('ridge_alpha', 0.0, 2.0)},\n",
    "        {'type': 'lasso', 'alpha': hp.uniform('lasso_alpha', 0.0, 2.0)},\n",
    "        {'type': 'decision_tree', 'max_depth': hp.choice('dt_max_depth', [None, 3, 5, 7])},\n",
    "        {'type': 'random_forest', 'n_estimators': hp.choice('rf_n_estimators', [50, 100, 150])},\n",
    "        {'type': 'gradient_boosting', 'n_estimators': hp.choice('gb_n_estimators', [50, 100, 150]),\n",
    "         'max_depth': hp.choice('gb_max_depth', [3, 5, 7])},\n",
    "        {'type': 'svr', 'C': hp.loguniform('svr_C', -5, 2),\n",
    "         'gamma': hp.loguniform('svr_gamma', -5, 2)},\n",
    "        {'type': 'knn', 'n_neighbors': hp.choice('knn_n_neighbors', [3, 5, 7])}\n",
    "    ])\n",
    "}\n"
   ]
  },
  {
   "cell_type": "code",
   "execution_count": 11,
   "metadata": {},
   "outputs": [],
   "source": [
    "def objective(params):\n",
    "    model_type = params['model']['type']\n",
    "    \n",
    "    if model_type == 'linear_regression':\n",
    "        model = LinearRegression()\n",
    "    elif model_type == 'ridge':\n",
    "        model = Ridge(alpha=params['model']['alpha'])\n",
    "    elif model_type == 'lasso':\n",
    "        model = Lasso(alpha=params['model']['alpha'])\n",
    "    elif model_type == 'decision_tree':\n",
    "        model = DecisionTreeRegressor(max_depth=params['model']['max_depth'])\n",
    "    elif model_type == 'random_forest':\n",
    "        model = RandomForestRegressor(n_estimators=params['model']['n_estimators'])\n",
    "    elif model_type == 'gradient_boosting':\n",
    "        model = GradientBoostingRegressor(n_estimators=params['model']['n_estimators'],\n",
    "                                          max_depth=params['model']['max_depth'])\n",
    "    elif model_type == 'svr':\n",
    "        model = SVR(C=params['model']['C'], gamma=params['model']['gamma'])\n",
    "    elif model_type == 'knn':\n",
    "        model = KNeighborsRegressor(n_neighbors=params['model']['n_neighbors'])\n",
    "    else:\n",
    "        raise ValueError(\"Invalid model type\")\n",
    "    \n",
    "    model.fit(X_train, y_train)\n",
    "    predictions = model.predict(X_test)\n",
    "    mse = mean_squared_error(y_test, predictions)\n",
    "    return mse\n"
   ]
  },
  {
   "cell_type": "code",
   "execution_count": 12,
   "metadata": {},
   "outputs": [
    {
     "name": "stdout",
     "output_type": "stream",
     "text": [
      "100%|██████████| 10/10 [02:25<00:00, 14.58s/trial, best loss: 0.21736102404932534]\n"
     ]
    },
    {
     "ename": "IndexError",
     "evalue": "list index out of range",
     "output_type": "error",
     "traceback": [
      "\u001b[1;31m---------------------------------------------------------------------------\u001b[0m",
      "\u001b[1;31mIndexError\u001b[0m                                Traceback (most recent call last)",
      "\u001b[1;32mc:\\Users\\bartw\\PycharmProjects\\studio-ml\\autoML\\opdracht_les.ipynb Cell 5\u001b[0m line \u001b[0;36m7\n\u001b[0;32m      <a href='vscode-notebook-cell:/c%3A/Users/bartw/PycharmProjects/studio-ml/autoML/opdracht_les.ipynb#X10sZmlsZQ%3D%3D?line=4'>5</a>\u001b[0m \u001b[39m# Extract the best hyperparameters\u001b[39;00m\n\u001b[0;32m      <a href='vscode-notebook-cell:/c%3A/Users/bartw/PycharmProjects/studio-ml/autoML/opdracht_les.ipynb#X10sZmlsZQ%3D%3D?line=5'>6</a>\u001b[0m best_trial \u001b[39m=\u001b[39m trials\u001b[39m.\u001b[39mbest_trial[\u001b[39m'\u001b[39m\u001b[39mmisc\u001b[39m\u001b[39m'\u001b[39m][\u001b[39m'\u001b[39m\u001b[39mvals\u001b[39m\u001b[39m'\u001b[39m]\n\u001b[1;32m----> <a href='vscode-notebook-cell:/c%3A/Users/bartw/PycharmProjects/studio-ml/autoML/opdracht_les.ipynb#X10sZmlsZQ%3D%3D?line=6'>7</a>\u001b[0m best_params \u001b[39m=\u001b[39m {key: best_trial[key][\u001b[39m0\u001b[39m] \u001b[39mfor\u001b[39;00m key \u001b[39min\u001b[39;00m best_trial}\n",
      "\u001b[1;32mc:\\Users\\bartw\\PycharmProjects\\studio-ml\\autoML\\opdracht_les.ipynb Cell 5\u001b[0m line \u001b[0;36m7\n\u001b[0;32m      <a href='vscode-notebook-cell:/c%3A/Users/bartw/PycharmProjects/studio-ml/autoML/opdracht_les.ipynb#X10sZmlsZQ%3D%3D?line=4'>5</a>\u001b[0m \u001b[39m# Extract the best hyperparameters\u001b[39;00m\n\u001b[0;32m      <a href='vscode-notebook-cell:/c%3A/Users/bartw/PycharmProjects/studio-ml/autoML/opdracht_les.ipynb#X10sZmlsZQ%3D%3D?line=5'>6</a>\u001b[0m best_trial \u001b[39m=\u001b[39m trials\u001b[39m.\u001b[39mbest_trial[\u001b[39m'\u001b[39m\u001b[39mmisc\u001b[39m\u001b[39m'\u001b[39m][\u001b[39m'\u001b[39m\u001b[39mvals\u001b[39m\u001b[39m'\u001b[39m]\n\u001b[1;32m----> <a href='vscode-notebook-cell:/c%3A/Users/bartw/PycharmProjects/studio-ml/autoML/opdracht_les.ipynb#X10sZmlsZQ%3D%3D?line=6'>7</a>\u001b[0m best_params \u001b[39m=\u001b[39m {key: best_trial[key][\u001b[39m0\u001b[39;49m] \u001b[39mfor\u001b[39;00m key \u001b[39min\u001b[39;00m best_trial}\n",
      "\u001b[1;31mIndexError\u001b[0m: list index out of range"
     ]
    }
   ],
   "source": [
    "# TODO 5: Use Tree of Parzen Estimators (TPE) for hyperparameter optimization\n",
    "trials = Trials()\n",
    "best = fmin(fn=objective, space=space, algo=tpe.suggest, max_evals=10, trials=trials)\n",
    "\n",
    "# Extract the best hyperparameters\n",
    "import hyperopt\n",
    "best_params = hyperopt.space_eval(space, best)\n"
   ]
  },
  {
   "cell_type": "code",
   "execution_count": 19,
   "metadata": {},
   "outputs": [],
   "source": [
    "# TODO step 6 get test accuracy\n",
    "mse = objective(best_params)\n",
    "mse"
   ]
  },
  {
   "cell_type": "code",
   "execution_count": 17,
   "metadata": {},
   "outputs": [
    {
     "data": {
      "text/plain": [
       "({'model': {'max_depth': 7, 'n_estimators': 100, 'type': 'gradient_boosting'}},\n",
       " 'gradient_boosting')"
      ]
     },
     "execution_count": 17,
     "metadata": {},
     "output_type": "execute_result"
    }
   ],
   "source": [
    "best_params"
   ]
  },
  {
   "cell_type": "code",
   "execution_count": 21,
   "metadata": {},
   "outputs": [
    {
     "name": "stdout",
     "output_type": "stream",
     "text": [
      "INFO:tensorflow:Assets written to: .\\structured_data_regressor\\best_model\\assets\n",
      "129/129 [==============================] - 0s 1ms/step\n",
      "129/129 [==============================] - 0s 1ms/step\n",
      "Test MSE: 0.2869356141179684\n"
     ]
    }
   ],
   "source": [
    "# TODO 6: Train AutoKeras\n",
    "best_model = ak.StructuredDataRegressor(max_trials=10, overwrite=True)\n",
    "best_model.fit(X_train, y_train, verbose=0)  # TODO 7: Set verbose=0 for less output\n",
    "\n",
    "# Evaluate the best model on the test set\n",
    "predictions = best_model.predict(X_test)\n",
    "test_mse = mean_squared_error(y_test, predictions)\n",
    "print(\"Test MSE:\", test_mse)\n"
   ]
  }
 ],
 "metadata": {
  "kernelspec": {
   "display_name": "Python 3",
   "language": "python",
   "name": "python3"
  },
  "language_info": {
   "codemirror_mode": {
    "name": "ipython",
    "version": 3
   },
   "file_extension": ".py",
   "mimetype": "text/x-python",
   "name": "python",
   "nbconvert_exporter": "python",
   "pygments_lexer": "ipython3",
   "version": "3.10.11"
  }
 },
 "nbformat": 4,
 "nbformat_minor": 2
}
